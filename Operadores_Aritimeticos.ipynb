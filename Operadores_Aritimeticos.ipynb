In this class I created a presentation of code with descriptions explaining about the operators.
